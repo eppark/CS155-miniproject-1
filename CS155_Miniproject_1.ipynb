{
  "nbformat": 4,
  "nbformat_minor": 0,
  "metadata": {
    "colab": {
      "name": "CS155 Miniproject 1.ipynb",
      "provenance": [],
      "collapsed_sections": [],
      "toc_visible": true
    },
    "kernelspec": {
      "name": "python3",
      "display_name": "Python 3"
    },
    "accelerator": "TPU"
  },
  "cells": [
    {
      "cell_type": "markdown",
      "metadata": {
        "id": "dO55kY3iPdIE",
        "colab_type": "text"
      },
      "source": [
        "## Gradient Boosting"
      ]
    },
    {
      "cell_type": "markdown",
      "metadata": {
        "id": "7gxlcJXxPla9",
        "colab_type": "text"
      },
      "source": [
        "First, we attempt to visualize the dataset."
      ]
    },
    {
      "cell_type": "code",
      "metadata": {
        "id": "OC96eBo3POlF",
        "colab_type": "code",
        "outputId": "c2078715-a1cd-4594-9dd2-e302cc1e6a1a",
        "colab": {
          "base_uri": "https://localhost:8080/",
          "height": 851
        }
      },
      "source": [
        "# Import the necessary libraries\n",
        "import pandas as pd\n",
        "import numpy as np\n",
        "import sklearn.metrics\n",
        "from matplotlib import pyplot as plt\n",
        "\n",
        "# Load the datasets\n",
        "train_df = pd.read_csv(\"train.csv\", index_col=0, header=0)\n",
        "test_df = pd.read_csv(\"test.csv\", index_col=0, header=0)\n",
        "\n",
        "# Plot the train dataset\n",
        "plt.hist(train_df.mid)\n",
        "plt.xlabel(\"Mid Price\")\n",
        "plt.ylabel(\"Frequency\")\n",
        "plt.title(\"Mid Price Histogram\")\n",
        "plt.show()\n",
        "\n",
        "plt.hist(train_df.ask1vol - train_df.bid1vol)\n",
        "plt.xlabel(\"Ask 1 Vol - Bid 1 Vol\")\n",
        "plt.ylabel(\"Frequency\")\n",
        "plt.title(\"Difference between Ask 1 Vol and Bid 1 Vol Histogram\")\n",
        "plt.show()\n",
        "\n",
        "plt.hist(train_df.y)\n",
        "plt.xlabel(\"Y value\")\n",
        "plt.ylabel(\"Frequency\")\n",
        "plt.title(\"Y value Histogram\")\n",
        "plt.show()"
      ],
      "execution_count": 0,
      "outputs": [
        {
          "output_type": "display_data",
          "data": {
            "image/png": "[encoded data removed]",
            "text/plain": [
              "<Figure size 432x288 with 1 Axes>"
            ]
          },
          "metadata": {
            "tags": []
          }
        },
        {
          "output_type": "display_data",
          "data": {
            "image/png": "[encoded data removed]",
            "text/plain": [
              "<Figure size 432x288 with 1 Axes>"
            ]
          },
          "metadata": {
            "tags": []
          }
        },
        {
          "output_type": "display_data",
          "data": {
            "image/png": "[encoded data removed]",
            "text/plain": [
              "<Figure size 432x288 with 1 Axes>"
            ]
          },
          "metadata": {
            "tags": []
          }
        }
      ]
    },
    {
      "cell_type": "markdown",
      "metadata": {
        "id": "NyqPProiX9iP",
        "colab_type": "text"
      },
      "source": [
        "We will try basic gradient boosting for funzies :) using catboost since scikit-learn doesn't take in the appropriate input."
      ]
    },
    {
      "cell_type": "code",
      "metadata": {
        "id": "ngMdHdKxeoap",
        "colab_type": "code",
        "outputId": "ed794a86-7945-4b58-c58b-08bb4bb22e30",
        "colab": {
          "base_uri": "https://localhost:8080/",
          "height": 356
        }
      },
      "source": [
        "!pip install catboost"
      ],
      "execution_count": 0,
      "outputs": [
        {
          "output_type": "stream",
          "text": [
            "Collecting catboost\n",
            "\u001b[?25l  Downloading https://files.pythonhosted.org/packages/ca/ae/aaff63662f7f5d2af7ec8d61a6f39e78ada9348e5df4f43e665ecc4bea10/catboost-0.21-cp36-none-manylinux1_x86_64.whl (64.0MB)\n",
            "\u001b[K     |████████████████████████████████| 64.0MB 50kB/s \n",
            "\u001b[?25hRequirement already satisfied: numpy>=1.16.0 in /usr/local/lib/python3.6/dist-packages (from catboost) (1.17.5)\n",
            "Requirement already satisfied: scipy in /usr/local/lib/python3.6/dist-packages (from catboost) (1.4.1)\n",
            "Requirement already satisfied: matplotlib in /usr/local/lib/python3.6/dist-packages (from catboost) (3.1.3)\n",
            "Requirement already satisfied: pandas>=0.24.0 in /usr/local/lib/python3.6/dist-packages (from catboost) (0.25.3)\n",
            "Requirement already satisfied: plotly in /usr/local/lib/python3.6/dist-packages (from catboost) (4.4.1)\n",
            "Requirement already satisfied: six in /usr/local/lib/python3.6/dist-packages (from catboost) (1.12.0)\n",
            "Requirement already satisfied: graphviz in /usr/local/lib/python3.6/dist-packages (from catboost) (0.10.1)\n",
            "Requirement already satisfied: kiwisolver>=1.0.1 in /usr/local/lib/python3.6/dist-packages (from matplotlib->catboost) (1.1.0)\n",
            "Requirement already satisfied: python-dateutil>=2.1 in /usr/local/lib/python3.6/dist-packages (from matplotlib->catboost) (2.6.1)\n",
            "Requirement already satisfied: cycler>=0.10 in /usr/local/lib/python3.6/dist-packages (from matplotlib->catboost) (0.10.0)\n",
            "Requirement already satisfied: pyparsing!=2.0.4,!=2.1.2,!=2.1.6,>=2.0.1 in /usr/local/lib/python3.6/dist-packages (from matplotlib->catboost) (2.4.6)\n",
            "Requirement already satisfied: pytz>=2017.2 in /usr/local/lib/python3.6/dist-packages (from pandas>=0.24.0->catboost) (2018.9)\n",
            "Requirement already satisfied: retrying>=1.3.3 in /usr/local/lib/python3.6/dist-packages (from plotly->catboost) (1.3.3)\n",
            "Requirement already satisfied: setuptools in /usr/local/lib/python3.6/dist-packages (from kiwisolver>=1.0.1->matplotlib->catboost) (45.1.0)\n",
            "Installing collected packages: catboost\n",
            "Successfully installed catboost-0.21\n"
          ],
          "name": "stdout"
        }
      ]
    },
    {
      "cell_type": "code",
      "metadata": {
        "id": "QDO3mduYPuXx",
        "colab_type": "code",
        "outputId": "c03b1080-7354-4a2d-d50c-d98c678b2038",
        "colab": {
          "base_uri": "https://localhost:8080/",
          "height": 521
        }
      },
      "source": [
        "from catboost import CatBoostRegressor as cbr\n",
        "from catboost import CatBoostClassifier as cbc\n",
        "\n",
        "# Fill in the missing data with the means of the columns\n",
        "for col in test_df.columns:\n",
        "  test_df[col].fillna((test_df[col].mean()), inplace=True)\n",
        "for col in train_df.columns:\n",
        "  train_df[col].fillna((train_df[col].mean()), inplace=True)\n",
        "print(test_df)\n",
        "print(train_df)"
      ],
      "execution_count": 0,
      "outputs": [
        {
          "output_type": "stream",
          "text": [
            "        last_price     mid  opened_position_qty   ...  ask3vol  ask4vol  ask5vol\n",
            "id                                                ...                           \n",
            "592380      5178.4  5178.3              1.000000  ...        1        5        2\n",
            "592381      5133.0  5132.9              1.000000  ...        1        1        1\n",
            "592382      5177.4  5178.0              2.000000  ...        1        2        5\n",
            "592383      5093.6  5093.9              0.000000  ...       11        6        2\n",
            "592384      5189.2  5189.2              1.444629  ...        1        3        4\n",
            "...            ...     ...                   ...  ...      ...      ...      ...\n",
            "784234      5150.6  5150.8              1.444629  ...        1        3        2\n",
            "784235      5122.6  5122.7              1.000000  ...        4        1       16\n",
            "784236      5192.8  5192.3              1.444629  ...        1        2        1\n",
            "784237      5152.0  5151.9              4.000000  ...        2        1        1\n",
            "784238      5200.0  5200.3              2.000000  ...        4        1        3\n",
            "\n",
            "[191859 rows x 26 columns]\n",
            "        last_price     mid  opened_position_qty   ...  ask4vol  ask5vol  y\n",
            "id                                                ...                     \n",
            "0           3842.4  3842.6              1.334516  ...       10        2  1\n",
            "1           3842.8  3843.4              6.000000  ...        1       13  0\n",
            "2           3844.0  3844.3              7.000000  ...        4        9  0\n",
            "3           3843.8  3843.4              3.000000  ...        2       11  1\n",
            "4           3843.2  3843.1              3.000000  ...       11       15  1\n",
            "...            ...     ...                   ...  ...      ...      ... ..\n",
            "401218      4034.0  4034.5              4.000000  ...        3        9  1\n",
            "401219      4034.0  4034.7              3.000000  ...        3        9  1\n",
            "401220      4035.2  4035.1              3.000000  ...        3        9  0\n",
            "401221      4035.0  4034.9              0.000000  ...       14        3  0\n",
            "401222      4035.0  4034.9              1.334516  ...       14        3  0\n",
            "\n",
            "[401223 rows x 27 columns]\n"
          ],
          "name": "stdout"
        }
      ]
    },
    {
      "cell_type": "code",
      "metadata": {
        "id": "ADFeprWQ-EwJ",
        "colab_type": "code",
        "colab": {}
      },
      "source": [
        "# Train using basic gradient boosting\n",
        "gb = cbr(learning_rate=0.01, loss_function='RMSE', n_estimators=500, max_depth=4)\n",
        "gb.fit(train_df[train_df.columns.drop('y')], train_df.y, logging_level='Silent')"
      ],
      "execution_count": 0,
      "outputs": []
    },
    {
      "cell_type": "code",
      "metadata": {
        "id": "rtKHp7CPyppf",
        "colab_type": "code",
        "outputId": "8aee3ddb-8d5b-4c8d-f4dd-0c095818897a",
        "colab": {
          "base_uri": "https://localhost:8080/",
          "height": 33
        }
      },
      "source": [
        "# Get the score and predict the testing set\n",
        "print(sklearn.metrics.mean_squared_error(train_df.y, gb.predict(train_df[train_df.columns.drop('y')])))\n",
        "test_df['predicted'] = gb.predict(test_df)\n",
        "test_df[['predicted']].to_csv('submission.csv')"
      ],
      "execution_count": 0,
      "outputs": [
        {
          "output_type": "stream",
          "text": [
            "0.21505996810017264\n"
          ],
          "name": "stdout"
        }
      ]
    },
    {
      "cell_type": "markdown",
      "metadata": {
        "id": "oXLtdLbhgBYJ",
        "colab_type": "text"
      },
      "source": [
        "Sadly this gave us horrible training accuracy. We will definitely need to extract features and build feature importance... Then we can test which features are more likely to affect our evaluations.\n"
      ]
    },
    {
      "cell_type": "code",
      "metadata": {
        "id": "q2Sqg1zcgYC3",
        "colab_type": "code",
        "colab": {}
      },
      "source": [
        "# Trying feature extraction by hand. Find bid-ask spreads, price\n",
        "# differences, mean_prices and volumes\n",
        "def extract(df):\n",
        "  ba_spread = []\n",
        "  ba_diff = []\n",
        "  ba_mean = []\n",
        "  ba_accum = []\n",
        "  for r in range(len(df.index)):\n",
        "    ba_spread.append([df.ask1.iloc[r] - df.bid1.iloc[r], \n",
        "                    df.ask2.iloc[r] - df.bid2.iloc[r],\n",
        "                    df.ask3.iloc[r] - df.bid3.iloc[r],\n",
        "                    df.ask4.iloc[r] - df.bid4.iloc[r],\n",
        "                    df.ask5.iloc[r] - df.bid5.iloc[r]])\n",
        "    ba_diff.append([df.ask5.iloc[r] - df.ask1.iloc[r], \n",
        "                  df.bid1.iloc[r] - df.bid5.iloc[r]])\n",
        "    mean_vec = [0, 0, 0, 0]\n",
        "    accum_diff = [0, 0]\n",
        "    for i in range(1, 6):\n",
        "      bid_col = \"bid\" + str(i)\n",
        "      ask_col = \"ask\" + str(i)\n",
        "      bid_vol_col = bid_col + \"vol\"\n",
        "      ask_vol_col = ask_col + \"vol\"\n",
        "      mean_vec[0] += df[ask_col].iloc[r]\n",
        "      mean_vec[1] += df[bid_col].iloc[r]\n",
        "      mean_vec[2] += df[ask_vol_col].iloc[r]\n",
        "      mean_vec[3] += df[bid_vol_col].iloc[r]\n",
        "      accum_diff[0] += df[ask_col].iloc[r] - df[bid_col].iloc[r]\n",
        "      accum_diff[1] += df[ask_vol_col].iloc[r] - df[bid_vol_col].iloc[r]\n",
        "    mean_vec = [(mean_vec[i] / 4) for i in range(4)]\n",
        "    ba_mean.append(mean_vec)\n",
        "    ba_accum.append(accum_diff)\n",
        "\n",
        "  arr = np.hstack((np.array(ba_spread), np.array(ba_diff), np.array(ba_mean),\n",
        "                  np.array(ba_accum)))\n",
        "  extracted = pd.DataFrame(arr, columns = ['baspread1', 'baspread2', 'baspread3',\n",
        "                                        'baspread4','baspread5', 'askdiff',\n",
        "                                        'biddiff', 'askmean', 'bidmean', 'askvolmean',\n",
        "                                        'bidvolmean', 'priceaccum', 'volaccum'])\n",
        "  return extracted"
      ],
      "execution_count": 0,
      "outputs": []
    },
    {
      "cell_type": "markdown",
      "metadata": {
        "id": "mkuJSk58_UWK",
        "colab_type": "text"
      },
      "source": [
        "Re-training with feature extraction..."
      ]
    },
    {
      "cell_type": "code",
      "metadata": {
        "id": "2FoTFsLc-u-M",
        "colab_type": "code",
        "colab": {}
      },
      "source": [
        "extract_train = extract(train_df)\n",
        "extract_test = extract(test_df)\n",
        "extract_test.index += 592380"
      ],
      "execution_count": 0,
      "outputs": []
    },
    {
      "cell_type": "code",
      "metadata": {
        "id": "ESbJGdQf_W2N",
        "colab_type": "code",
        "outputId": "160d2c9f-4eb1-4d55-b81d-a5af50606451",
        "colab": {
          "base_uri": "https://localhost:8080/",
          "height": 504
        }
      },
      "source": [
        "train_large = pd.concat([train_df, extract_train], axis=1)\n",
        "test_large = pd.concat([test_df, extract_test], axis=1)\n",
        "\n",
        "print(test_large)\n",
        "print(test_df)"
      ],
      "execution_count": 0,
      "outputs": [
        {
          "output_type": "stream",
          "text": [
            "        last_price     mid  ...  priceaccum  volaccum\n",
            "592380      5178.4  5178.3  ...         5.6     -11.0\n",
            "592381      5133.0  5132.9  ...         6.2      -1.0\n",
            "592382      5177.4  5178.0  ...        13.0     -15.0\n",
            "592383      5093.6  5093.9  ...        11.8       0.0\n",
            "592384      5189.2  5189.2  ...        11.2       0.0\n",
            "...            ...     ...  ...         ...       ...\n",
            "784234      5150.6  5150.8  ...         7.4      -5.0\n",
            "784235      5122.6  5122.7  ...         5.4      24.0\n",
            "784236      5192.8  5192.3  ...         9.4       1.0\n",
            "784237      5152.0  5151.9  ...         5.0     -48.0\n",
            "784238      5200.0  5200.3  ...        11.0      -3.0\n",
            "\n",
            "[191859 rows x 39 columns]\n",
            "        last_price     mid  opened_position_qty   ...  ask3vol  ask4vol  ask5vol\n",
            "id                                                ...                           \n",
            "592380      5178.4  5178.3              1.000000  ...        1        5        2\n",
            "592381      5133.0  5132.9              1.000000  ...        1        1        1\n",
            "592382      5177.4  5178.0              2.000000  ...        1        2        5\n",
            "592383      5093.6  5093.9              0.000000  ...       11        6        2\n",
            "592384      5189.2  5189.2              1.444629  ...        1        3        4\n",
            "...            ...     ...                   ...  ...      ...      ...      ...\n",
            "784234      5150.6  5150.8              1.444629  ...        1        3        2\n",
            "784235      5122.6  5122.7              1.000000  ...        4        1       16\n",
            "784236      5192.8  5192.3              1.444629  ...        1        2        1\n",
            "784237      5152.0  5151.9              4.000000  ...        2        1        1\n",
            "784238      5200.0  5200.3              2.000000  ...        4        1        3\n",
            "\n",
            "[191859 rows x 26 columns]\n"
          ],
          "name": "stdout"
        }
      ]
    },
    {
      "cell_type": "code",
      "metadata": {
        "id": "Ltjx88_BHhOq",
        "colab_type": "code",
        "colab": {}
      },
      "source": [
        "# Train using basic gradient boosting\n",
        "gb = cbr(learning_rate=0.01, loss_function='RMSE', n_estimators=1000, max_depth=4)\n",
        "gb.fit(train_large[train_large.columns.drop('y')], train_large.y, logging_level='Silent')\n",
        "print(sklearn.metrics.mean_squared_error(train_df.y, gb.predict(train_large[train_large.columns.drop('y')])))"
      ],
      "execution_count": 0,
      "outputs": []
    },
    {
      "cell_type": "code",
      "metadata": {
        "id": "qWFl7RbW2D8r",
        "colab_type": "code",
        "outputId": "ac0b83aa-b23e-46e3-cfb7-54e84ce25645",
        "colab": {
          "base_uri": "https://localhost:8080/",
          "height": 33
        }
      },
      "source": [
        "# Predict the testing set\n",
        "test_large['predicted'] = gb.predict(test_large)\n",
        "test_large[['predicted']].to_csv('submission.csv')"
      ],
      "execution_count": 0,
      "outputs": [
        {
          "output_type": "stream",
          "text": [
            "0.2122184929675075\n"
          ],
          "name": "stdout"
        }
      ]
    },
    {
      "cell_type": "markdown",
      "metadata": {
        "id": "M8fWUJJEzX-v",
        "colab_type": "text"
      },
      "source": [
        "Unfortunately, gradient boost regressor (catboost's and skilearn's implementation) and ada boost regressor does not achieve high training accuracy. Gradient boost regressor from skilearn (n_estimators=500, max_depth=4, min_samples_split=2, learning_rate=0.01) had a training error of 0.2145. Ada boost regressor (n_estimators=500, learning_rate=0.01, loss='square') had training error of 0.2183."
      ]
    },
    {
      "cell_type": "markdown",
      "metadata": {
        "id": "QS8iBospFPqV",
        "colab_type": "text"
      },
      "source": [
        "Let's try dropping some of the features."
      ]
    },
    {
      "cell_type": "code",
      "metadata": {
        "id": "s3_xKhRAFR2r",
        "colab_type": "code",
        "outputId": "b1e25447-f6af-4699-8d55-c170f3be0b77",
        "colab": {
          "base_uri": "https://localhost:8080/",
          "height": 252
        }
      },
      "source": [
        "train_drop = train_large.drop(['bid2', 'bid3', 'bid4', 'bid5', 'ask2', 'ask3', 'ask4', 'ask5', \n",
        "                               'bid2vol', 'bid3vol', 'bid4vol', 'bid5vol', 'ask2vol', 'ask3vol', 'ask4vol', 'ask5vol'],\n",
        "                               axis='columns')\n",
        "test_drop = test_large.drop(['bid2', 'bid3', 'bid4', 'bid5', 'ask2', 'ask3', 'ask4', 'ask5', \n",
        "                               'bid2vol', 'bid3vol', 'bid4vol', 'bid5vol', 'ask2vol', 'ask3vol', 'ask4vol', 'ask5vol'],\n",
        "                               axis='columns')\n",
        "\n",
        "print(test_large.columns)\n",
        "print(test_drop.columns)"
      ],
      "execution_count": 0,
      "outputs": [
        {
          "output_type": "stream",
          "text": [
            "Index(['last_price', 'mid', 'opened_position_qty ', 'closed_position_qty',\n",
            "       'transacted_qty', 'd_open_interest', 'bid1', 'bid2', 'bid3', 'bid4',\n",
            "       'bid5', 'ask1', 'ask2', 'ask3', 'ask4', 'ask5', 'bid1vol', 'bid2vol',\n",
            "       'bid3vol', 'bid4vol', 'bid5vol', 'ask1vol', 'ask2vol', 'ask3vol',\n",
            "       'ask4vol', 'ask5vol', 'baspread1', 'baspread2', 'baspread3',\n",
            "       'baspread4', 'baspread5', 'askdiff', 'biddiff', 'askmean', 'bidmean',\n",
            "       'askvolmean', 'bidvolmean', 'priceaccum', 'volaccum'],\n",
            "      dtype='object')\n",
            "Index(['last_price', 'mid', 'opened_position_qty ', 'closed_position_qty',\n",
            "       'transacted_qty', 'd_open_interest', 'bid1', 'ask1', 'bid1vol',\n",
            "       'ask1vol', 'baspread1', 'baspread2', 'baspread3', 'baspread4',\n",
            "       'baspread5', 'askdiff', 'biddiff', 'askmean', 'bidmean', 'askvolmean',\n",
            "       'bidvolmean', 'priceaccum', 'volaccum'],\n",
            "      dtype='object')\n"
          ],
          "name": "stdout"
        }
      ]
    },
    {
      "cell_type": "code",
      "metadata": {
        "id": "tXSy9pheGkE2",
        "colab_type": "code",
        "outputId": "59b53f85-4983-4b7b-f03d-a7e46a2f2618",
        "colab": {
          "base_uri": "https://localhost:8080/",
          "height": 33
        }
      },
      "source": [
        "# Train using basic gradient boosting\n",
        "gb = cbr(learning_rate=0.01, loss_function='RMSE', n_estimators=500, max_depth=4)\n",
        "gb.fit(train_drop[train_drop.columns.drop('y')], train_drop.y, logging_level='Silent')"
      ],
      "execution_count": 0,
      "outputs": [
        {
          "output_type": "execute_result",
          "data": {
            "text/plain": [
              "<catboost.core.CatBoostRegressor at 0x7f4775b94c18>"
            ]
          },
          "metadata": {
            "tags": []
          },
          "execution_count": 50
        }
      ]
    },
    {
      "cell_type": "code",
      "metadata": {
        "id": "PfJtyxPnGtIt",
        "colab_type": "code",
        "outputId": "d6ff0a65-db72-4295-8309-28b263536a8f",
        "colab": {
          "base_uri": "https://localhost:8080/",
          "height": 33
        }
      },
      "source": [
        "# Get the score and predict the testing set\n",
        "print(sklearn.metrics.mean_squared_error(train_df.y, gb.predict(train_drop[train_drop.columns.drop('y')])))\n",
        "test_drop['predicted'] = gb.predict(test_drop)\n",
        "test_drop[['predicted']].to_csv('submission.csv')"
      ],
      "execution_count": 0,
      "outputs": [
        {
          "output_type": "stream",
          "text": [
            "0.212312551520472\n"
          ],
          "name": "stdout"
        }
      ]
    },
    {
      "cell_type": "code",
      "metadata": {
        "id": "s6W2hMuaWc4R",
        "colab_type": "code",
        "outputId": "1f5fba2d-0778-461d-93ba-44c12d23ba5d",
        "colab": {
          "base_uri": "https://localhost:8080/",
          "height": 34
        }
      },
      "source": [
        "# Train using basic gradient classifier\n",
        "gb = cbc(learning_rate=0.1, loss_function='CrossEntropy', l2_leaf_reg=7, n_estimators=1100, max_depth=15)\n",
        "gb.fit(train_drop[train_drop.columns.drop('y')], train_drop.y, logging_level='Silent')\n",
        "print(sklearn.metrics.mean_squared_error(train_df.y, gb.predict(train_drop[train_drop.columns.drop('y')])))"
      ],
      "execution_count": 0,
      "outputs": [
        {
          "output_type": "stream",
          "text": [
            "0.10199564830530652\n"
          ],
          "name": "stdout"
        }
      ]
    },
    {
      "cell_type": "code",
      "metadata": {
        "id": "lSn3s4AYWfI9",
        "colab_type": "code",
        "colab": {}
      },
      "source": [
        "# Predict the testing set\n",
        "test_drop['predicted'] = gb.predict_proba(test_drop)[:,1]\n",
        "test_drop[['predicted']].to_csv('submission.csv')"
      ],
      "execution_count": 0,
      "outputs": []
    },
    {
      "cell_type": "markdown",
      "metadata": {
        "id": "o47R3TyoLy8O",
        "colab_type": "text"
      },
      "source": [
        "Unfortunately, this did not do much better, so we will now try varying parameters."
      ]
    },
    {
      "cell_type": "code",
      "metadata": {
        "id": "AS44gVosH8XF",
        "colab_type": "code",
        "outputId": "5cd62931-081e-45d7-9298-9dbb84168191",
        "colab": {
          "base_uri": "https://localhost:8080/",
          "height": 329
        }
      },
      "source": [
        "# Test different learning rates\n",
        "best = [1, 0, 0, 0, 0]\n",
        "lr = [0.01, 0.025, 0.05, 0.075, 0.1]\n",
        "error = []\n",
        "for a in range(len(lr)):\n",
        "  # Train using basic gradient boosting\n",
        "  gb = cbr(learning_rate=lr[a], loss_function='RMSE', l2_leaf_reg=0.7, max_depth=4, n_estimators=500)\n",
        "  gb.fit(train_df[train_df.columns.drop('y')], train_df.y, logging_level='Silent')\n",
        "  error.append(sklearn.metrics.mean_squared_error(train_df.y, gb.predict(train_df[train_df.columns.drop('y')])))\n",
        "  if error[a] <= best[0]:\n",
        "    best[0] = error[a]\n",
        "    best[1] = lr[a]\n",
        "\n",
        "print(\"Learning rate:\" + str(best[1]))\n",
        "print(\"Best error:\" + str(best[0]))\n",
        "\n",
        "plt.plot(lr, error, 'bo', linestyle=None)\n",
        "plt.xlabel(\"Learning Rate\")\n",
        "plt.ylabel(\"Training Error\")\n",
        "plt.title(\"Learning Rate over Training Error\")\n",
        "plt.show()"
      ],
      "execution_count": 0,
      "outputs": [
        {
          "output_type": "stream",
          "text": [
            "Learning rate:0.1\n",
            "Best error:0.21311924497817697\n"
          ],
          "name": "stdout"
        },
        {
          "output_type": "display_data",
          "data": {
            "image/png": "[encoded data removed]",
            "text/plain": [
              "<Figure size 432x288 with 1 Axes>"
            ]
          },
          "metadata": {
            "tags": []
          }
        }
      ]
    },
    {
      "cell_type": "code",
      "metadata": {
        "id": "W7N3ZvMf8D5H",
        "colab_type": "code",
        "outputId": "6f72591c-aedc-4104-f6ac-2a8554cfa279",
        "colab": {
          "base_uri": "https://localhost:8080/",
          "height": 329
        }
      },
      "source": [
        "# Test different regularization strengths\n",
        "leaf = [1, 2, 3, 4, 5]\n",
        "best[0] = 1\n",
        "error = []\n",
        "for b in range(len(leaf)):\n",
        "  # Train using basic gradient boosting\n",
        "  gb = cbr(learning_rate=0.01, loss_function='RMSE', l2_leaf_reg=leaf[b], max_depth=4, n_estimators=500)\n",
        "  gb.fit(train_df[train_df.columns.drop('y')], train_df.y, logging_level='Silent')\n",
        "  error.append(sklearn.metrics.mean_squared_error(train_df.y, gb.predict(train_df[train_df.columns.drop('y')])))\n",
        "  if error[b] <= best[0]:\n",
        "    best[0] = error[b]\n",
        "    best[2] = leaf[b]\n",
        "\n",
        "print(\"Reg strength:\" + str(best[2]))\n",
        "print(\"Best error:\" + str(best[0]))\n",
        "\n",
        "plt.plot(leaf, error, 'bo', linestyle=None)\n",
        "plt.xlabel(\"L2 Regularization Strength\")\n",
        "plt.ylabel(\"Training Error\")\n",
        "plt.title(\"L2 Regularization Strength over Training Error\")\n",
        "plt.show()"
      ],
      "execution_count": 0,
      "outputs": [
        {
          "output_type": "stream",
          "text": [
            "Reg strength:1\n",
            "Best error:0.21507105621846778\n"
          ],
          "name": "stdout"
        },
        {
          "output_type": "display_data",
          "data": {
            "image/png": "[encoded data removed]",
            "text/plain": [
              "<Figure size 432x288 with 1 Axes>"
            ]
          },
          "metadata": {
            "tags": []
          }
        }
      ]
    },
    {
      "cell_type": "code",
      "metadata": {
        "id": "e5epMnJy8XpO",
        "colab_type": "code",
        "outputId": "0e1d51ac-7284-48f4-8f78-ce133111d483",
        "colab": {
          "base_uri": "https://localhost:8080/",
          "height": 329
        }
      },
      "source": [
        "# Test different max depth sizes\n",
        "depth = [1, 4, 7, 10, 15]\n",
        "best[0] = 1\n",
        "error = []\n",
        "for c in range(len(depth)):\n",
        "  # Train using basic gradient boosting\n",
        "  gb = cbr(learning_rate=0.01, loss_function='RMSE', l2_leaf_reg=0.7, max_depth=depth[c], n_estimators=500)\n",
        "  gb.fit(train_df[train_df.columns.drop('y')], train_df.y, logging_level='Silent')\n",
        "  error.append(sklearn.metrics.mean_squared_error(train_df.y, gb.predict(train_df[train_df.columns.drop('y')])))\n",
        "  if error[c] <= best[0]:\n",
        "    best[0] = error[c]\n",
        "    best[3] = depth[c]\n",
        "\n",
        "print(\"Max depth size:\" + str(best[3]))\n",
        "print(\"Best error:\" + str(best[0]))\n",
        "\n",
        "plt.plot(depth, error, 'bo', linestyle=None)\n",
        "plt.xlabel(\"Max Depth\")\n",
        "plt.ylabel(\"Training Error\")\n",
        "plt.title(\"Max Depth over Training Error\")\n",
        "plt.show()"
      ],
      "execution_count": 0,
      "outputs": [
        {
          "output_type": "stream",
          "text": [
            "Max depth size:15\n",
            "Best error:0.1928358235134561\n"
          ],
          "name": "stdout"
        },
        {
          "output_type": "display_data",
          "data": {
            "image/png": "[encoded data removed]",
            "text/plain": [
              "<Figure size 432x288 with 1 Axes>"
            ]
          },
          "metadata": {
            "tags": []
          }
        }
      ]
    },
    {
      "cell_type": "code",
      "metadata": {
        "id": "HmRrR_hN8pKB",
        "colab_type": "code",
        "outputId": "5fea04b7-7deb-4fd7-902a-26efb50eb690",
        "colab": {
          "base_uri": "https://localhost:8080/",
          "height": 329
        }
      },
      "source": [
        "# Test different number of estimators\n",
        "n_est = [250, 500, 750, 1000]\n",
        "best[0] = 1\n",
        "error = []\n",
        "for d in range(len(n_est)):\n",
        "  # Train using basic gradient boosting\n",
        "  gb = cbr(learning_rate=0.01, loss_function='RMSE', l2_leaf_reg=0.7, max_depth=4, n_estimators=n_est[d])\n",
        "  gb.fit(train_df[train_df.columns.drop('y')], train_df.y, logging_level='Silent')\n",
        "  error.append(sklearn.metrics.mean_squared_error(train_df.y, gb.predict(train_df[train_df.columns.drop('y')])))\n",
        "  if error[d] <= best[0]:\n",
        "    best[0] = error[d]\n",
        "    best[4] = n_est[d]\n",
        "\n",
        "print(\"Number of estimators:\" + str(best[4]))\n",
        "print(\"Best error:\" + str(best[0]))\n",
        "\n",
        "plt.plot(n_est, error, 'bo', linestyle=None)\n",
        "plt.xlabel(\"Number of Estimators\")\n",
        "plt.ylabel(\"Training Error\")\n",
        "plt.title(\"Number of Estimators over Training Error\")\n",
        "plt.show()"
      ],
      "execution_count": 0,
      "outputs": [
        {
          "output_type": "stream",
          "text": [
            "Number of estimators:1000\n",
            "Best error:0.2147412321403769\n"
          ],
          "name": "stdout"
        },
        {
          "output_type": "display_data",
          "data": {
            "image/png": "[encoded data removed]",
            "text/plain": [
              "<Figure size 432x288 with 1 Axes>"
            ]
          },
          "metadata": {
            "tags": []
          }
        }
      ]
    },
    {
      "cell_type": "markdown",
      "metadata": {
        "id": "qJkQO1jF9jXl",
        "colab_type": "text"
      },
      "source": [
        "Now that we have our best parameters, we will try using cross-validation with these."
      ]
    },
    {
      "cell_type": "code",
      "metadata": {
        "id": "hA4fLN5T9sfq",
        "colab_type": "code",
        "outputId": "4e78d140-f3b9-4c85-d43c-6e297924d996",
        "colab": {
          "base_uri": "https://localhost:8080/",
          "height": 456
        }
      },
      "source": [
        "# Cross Validation\n",
        "best = [0, 0.1, 5, 15, 1250]\n",
        "result = []\n",
        "errors = []\n",
        "for i in range(5): \n",
        "  indices = np.arange(train_large.index.size)\n",
        "  fin_indices = indices + np.repeat(i, len(indices))\n",
        "  if indices[len(indices) - 1] >= train_large.index.size:\n",
        "    indices[len(indices) - 1] = i\n",
        "  train = train_large.iloc[np.mod(fin_indices, 5)!=0]\n",
        "  val = train_large.iloc[np.mod(fin_indices, 5) == 0]\n",
        "  # Train using gradient boosting with the best parameters\n",
        "  gb = cbr(learning_rate=best[1], loss_function='RMSE', l2_leaf_reg=best[2], max_depth=best[3], n_estimators=best[4])\n",
        "  gb.fit(train[train.columns.drop('y')], train.y, logging_level='Silent', \n",
        "         eval_set=(val[val.columns.drop('y')], val.y), use_best_model=True)\n",
        "  result.append(gb.predict(test_large))\n",
        "  errors.append(sklearn.metrics.mean_squared_error(train.y, gb.predict(train[train.columns.drop('y')])))\n",
        "error = np.mean(np.array(errors))\n",
        "print(error)"
      ],
      "execution_count": 0,
      "outputs": [
        {
          "output_type": "error",
          "ename": "KeyboardInterrupt",
          "evalue": "ignored",
          "traceback": [
            "\u001b[0;31m---------------------------------------------------------------------------\u001b[0m",
            "\u001b[0;31mKeyboardInterrupt\u001b[0m                         Traceback (most recent call last)",
            "\u001b[0;32m<ipython-input-23-e509ca0de8ff>\u001b[0m in \u001b[0;36m<module>\u001b[0;34m()\u001b[0m\n\u001b[1;32m     12\u001b[0m   \u001b[0mgb\u001b[0m \u001b[0;34m=\u001b[0m \u001b[0mcbr\u001b[0m\u001b[0;34m(\u001b[0m\u001b[0mlearning_rate\u001b[0m\u001b[0;34m=\u001b[0m\u001b[0mbest\u001b[0m\u001b[0;34m[\u001b[0m\u001b[0;36m1\u001b[0m\u001b[0;34m]\u001b[0m\u001b[0;34m,\u001b[0m \u001b[0mloss_function\u001b[0m\u001b[0;34m=\u001b[0m\u001b[0;34m'RMSE'\u001b[0m\u001b[0;34m,\u001b[0m \u001b[0ml2_leaf_reg\u001b[0m\u001b[0;34m=\u001b[0m\u001b[0mbest\u001b[0m\u001b[0;34m[\u001b[0m\u001b[0;36m2\u001b[0m\u001b[0;34m]\u001b[0m\u001b[0;34m,\u001b[0m \u001b[0mmax_depth\u001b[0m\u001b[0;34m=\u001b[0m\u001b[0mbest\u001b[0m\u001b[0;34m[\u001b[0m\u001b[0;36m3\u001b[0m\u001b[0;34m]\u001b[0m\u001b[0;34m,\u001b[0m \u001b[0mn_estimators\u001b[0m\u001b[0;34m=\u001b[0m\u001b[0mbest\u001b[0m\u001b[0;34m[\u001b[0m\u001b[0;36m4\u001b[0m\u001b[0;34m]\u001b[0m\u001b[0;34m)\u001b[0m\u001b[0;34m\u001b[0m\u001b[0;34m\u001b[0m\u001b[0m\n\u001b[1;32m     13\u001b[0m   gb.fit(train[train.columns.drop('y')], train.y, logging_level='Silent', \n\u001b[0;32m---> 14\u001b[0;31m          eval_set=(val[val.columns.drop('y')], val.y), use_best_model=True)\n\u001b[0m\u001b[1;32m     15\u001b[0m   \u001b[0mresult\u001b[0m\u001b[0;34m.\u001b[0m\u001b[0mappend\u001b[0m\u001b[0;34m(\u001b[0m\u001b[0mgb\u001b[0m\u001b[0;34m.\u001b[0m\u001b[0mpredict\u001b[0m\u001b[0;34m(\u001b[0m\u001b[0mtest_large\u001b[0m\u001b[0;34m)\u001b[0m\u001b[0;34m)\u001b[0m\u001b[0;34m\u001b[0m\u001b[0;34m\u001b[0m\u001b[0m\n\u001b[1;32m     16\u001b[0m   \u001b[0merrors\u001b[0m\u001b[0;34m.\u001b[0m\u001b[0mappend\u001b[0m\u001b[0;34m(\u001b[0m\u001b[0msklearn\u001b[0m\u001b[0;34m.\u001b[0m\u001b[0mmetrics\u001b[0m\u001b[0;34m.\u001b[0m\u001b[0mmean_squared_error\u001b[0m\u001b[0;34m(\u001b[0m\u001b[0mtrain\u001b[0m\u001b[0;34m.\u001b[0m\u001b[0my\u001b[0m\u001b[0;34m,\u001b[0m \u001b[0mgb\u001b[0m\u001b[0;34m.\u001b[0m\u001b[0mpredict\u001b[0m\u001b[0;34m(\u001b[0m\u001b[0mtrain\u001b[0m\u001b[0;34m[\u001b[0m\u001b[0mtrain\u001b[0m\u001b[0;34m.\u001b[0m\u001b[0mcolumns\u001b[0m\u001b[0;34m.\u001b[0m\u001b[0mdrop\u001b[0m\u001b[0;34m(\u001b[0m\u001b[0;34m'y'\u001b[0m\u001b[0;34m)\u001b[0m\u001b[0;34m]\u001b[0m\u001b[0;34m)\u001b[0m\u001b[0;34m)\u001b[0m\u001b[0;34m)\u001b[0m\u001b[0;34m\u001b[0m\u001b[0;34m\u001b[0m\u001b[0m\n",
            "\u001b[0;32m/usr/local/lib/python3.6/dist-packages/catboost/core.py\u001b[0m in \u001b[0;36mfit\u001b[0;34m(self, X, y, cat_features, sample_weight, baseline, use_best_model, eval_set, verbose, logging_level, plot, column_description, verbose_eval, metric_period, silent, early_stopping_rounds, save_snapshot, snapshot_file, snapshot_interval, init_model)\u001b[0m\n\u001b[1;32m   4382\u001b[0m                          \u001b[0muse_best_model\u001b[0m\u001b[0;34m,\u001b[0m \u001b[0meval_set\u001b[0m\u001b[0;34m,\u001b[0m \u001b[0mverbose\u001b[0m\u001b[0;34m,\u001b[0m \u001b[0mlogging_level\u001b[0m\u001b[0;34m,\u001b[0m \u001b[0mplot\u001b[0m\u001b[0;34m,\u001b[0m \u001b[0mcolumn_description\u001b[0m\u001b[0;34m,\u001b[0m\u001b[0;34m\u001b[0m\u001b[0;34m\u001b[0m\u001b[0m\n\u001b[1;32m   4383\u001b[0m                          \u001b[0mverbose_eval\u001b[0m\u001b[0;34m,\u001b[0m \u001b[0mmetric_period\u001b[0m\u001b[0;34m,\u001b[0m \u001b[0msilent\u001b[0m\u001b[0;34m,\u001b[0m \u001b[0mearly_stopping_rounds\u001b[0m\u001b[0;34m,\u001b[0m\u001b[0;34m\u001b[0m\u001b[0;34m\u001b[0m\u001b[0m\n\u001b[0;32m-> 4384\u001b[0;31m                          save_snapshot, snapshot_file, snapshot_interval, init_model)\n\u001b[0m\u001b[1;32m   4385\u001b[0m \u001b[0;34m\u001b[0m\u001b[0m\n\u001b[1;32m   4386\u001b[0m     \u001b[0;32mdef\u001b[0m \u001b[0mpredict\u001b[0m\u001b[0;34m(\u001b[0m\u001b[0mself\u001b[0m\u001b[0;34m,\u001b[0m \u001b[0mdata\u001b[0m\u001b[0;34m,\u001b[0m \u001b[0mntree_start\u001b[0m\u001b[0;34m=\u001b[0m\u001b[0;36m0\u001b[0m\u001b[0;34m,\u001b[0m \u001b[0mntree_end\u001b[0m\u001b[0;34m=\u001b[0m\u001b[0;36m0\u001b[0m\u001b[0;34m,\u001b[0m \u001b[0mthread_count\u001b[0m\u001b[0;34m=\u001b[0m\u001b[0;34m-\u001b[0m\u001b[0;36m1\u001b[0m\u001b[0;34m,\u001b[0m \u001b[0mverbose\u001b[0m\u001b[0;34m=\u001b[0m\u001b[0;32mNone\u001b[0m\u001b[0;34m)\u001b[0m\u001b[0;34m:\u001b[0m\u001b[0;34m\u001b[0m\u001b[0;34m\u001b[0m\u001b[0m\n",
            "\u001b[0;32m/usr/local/lib/python3.6/dist-packages/catboost/core.py\u001b[0m in \u001b[0;36m_fit\u001b[0;34m(self, X, y, cat_features, text_features, pairs, sample_weight, group_id, group_weight, subgroup_id, pairs_weight, baseline, use_best_model, eval_set, verbose, logging_level, plot, column_description, verbose_eval, metric_period, silent, early_stopping_rounds, save_snapshot, snapshot_file, snapshot_interval, init_model)\u001b[0m\n\u001b[1;32m   1724\u001b[0m                 \u001b[0mparams\u001b[0m\u001b[0;34m,\u001b[0m\u001b[0;34m\u001b[0m\u001b[0;34m\u001b[0m\u001b[0m\n\u001b[1;32m   1725\u001b[0m                 \u001b[0mallow_clear_pool\u001b[0m\u001b[0;34m,\u001b[0m\u001b[0;34m\u001b[0m\u001b[0;34m\u001b[0m\u001b[0m\n\u001b[0;32m-> 1726\u001b[0;31m                 \u001b[0mtrain_params\u001b[0m\u001b[0;34m[\u001b[0m\u001b[0;34m\"init_model\"\u001b[0m\u001b[0;34m]\u001b[0m\u001b[0;34m\u001b[0m\u001b[0;34m\u001b[0m\u001b[0m\n\u001b[0m\u001b[1;32m   1727\u001b[0m             )\n\u001b[1;32m   1728\u001b[0m \u001b[0;34m\u001b[0m\u001b[0m\n",
            "\u001b[0;32m/usr/local/lib/python3.6/dist-packages/catboost/core.py\u001b[0m in \u001b[0;36m_train\u001b[0;34m(self, train_pool, test_pool, params, allow_clear_pool, init_model)\u001b[0m\n\u001b[1;32m   1253\u001b[0m \u001b[0;34m\u001b[0m\u001b[0m\n\u001b[1;32m   1254\u001b[0m     \u001b[0;32mdef\u001b[0m \u001b[0m_train\u001b[0m\u001b[0;34m(\u001b[0m\u001b[0mself\u001b[0m\u001b[0;34m,\u001b[0m \u001b[0mtrain_pool\u001b[0m\u001b[0;34m,\u001b[0m \u001b[0mtest_pool\u001b[0m\u001b[0;34m,\u001b[0m \u001b[0mparams\u001b[0m\u001b[0;34m,\u001b[0m \u001b[0mallow_clear_pool\u001b[0m\u001b[0;34m,\u001b[0m \u001b[0minit_model\u001b[0m\u001b[0;34m)\u001b[0m\u001b[0;34m:\u001b[0m\u001b[0;34m\u001b[0m\u001b[0;34m\u001b[0m\u001b[0m\n\u001b[0;32m-> 1255\u001b[0;31m         \u001b[0mself\u001b[0m\u001b[0;34m.\u001b[0m\u001b[0m_object\u001b[0m\u001b[0;34m.\u001b[0m\u001b[0m_train\u001b[0m\u001b[0;34m(\u001b[0m\u001b[0mtrain_pool\u001b[0m\u001b[0;34m,\u001b[0m \u001b[0mtest_pool\u001b[0m\u001b[0;34m,\u001b[0m \u001b[0mparams\u001b[0m\u001b[0;34m,\u001b[0m \u001b[0mallow_clear_pool\u001b[0m\u001b[0;34m,\u001b[0m \u001b[0minit_model\u001b[0m\u001b[0;34m.\u001b[0m\u001b[0m_object\u001b[0m \u001b[0;32mif\u001b[0m \u001b[0minit_model\u001b[0m \u001b[0;32melse\u001b[0m \u001b[0;32mNone\u001b[0m\u001b[0;34m)\u001b[0m\u001b[0;34m\u001b[0m\u001b[0;34m\u001b[0m\u001b[0m\n\u001b[0m\u001b[1;32m   1256\u001b[0m         \u001b[0mself\u001b[0m\u001b[0;34m.\u001b[0m\u001b[0m_set_trained_model_attributes\u001b[0m\u001b[0;34m(\u001b[0m\u001b[0;34m)\u001b[0m\u001b[0;34m\u001b[0m\u001b[0;34m\u001b[0m\u001b[0m\n\u001b[1;32m   1257\u001b[0m \u001b[0;34m\u001b[0m\u001b[0m\n",
            "\u001b[0;32m_catboost.pyx\u001b[0m in \u001b[0;36m_catboost._CatBoost._train\u001b[0;34m()\u001b[0m\n",
            "\u001b[0;32m_catboost.pyx\u001b[0m in \u001b[0;36m_catboost._CatBoost._train\u001b[0;34m()\u001b[0m\n",
            "\u001b[0;31mKeyboardInterrupt\u001b[0m: "
          ]
        }
      ]
    },
    {
      "cell_type": "code",
      "metadata": {
        "id": "_9jUBqc7VZTd",
        "colab_type": "code",
        "colab": {}
      },
      "source": [
        "# Average the predictions of the testing set\n",
        "test_large['predicted'] = np.mean(np.array(result), axis=0)\n",
        "test_large[['predicted']].to_csv('submission.csv')"
      ],
      "execution_count": 0,
      "outputs": []
    },
    {
      "cell_type": "markdown",
      "metadata": {
        "id": "pKAqppHWF8-U",
        "colab_type": "text"
      },
      "source": [
        "This did not give us that much better testing accuracy, though we did get a training error of 0.10, indicating possible overfitting. Thus, we will try to use a classifier instead of a regressor."
      ]
    },
    {
      "cell_type": "code",
      "metadata": {
        "id": "uHG6WmBZot5a",
        "colab_type": "code",
        "outputId": "6729f72e-6925-4ab1-97ff-863aa33303a9",
        "colab": {
          "base_uri": "https://localhost:8080/",
          "height": 34
        }
      },
      "source": [
        "# Train using basic gradient classifier\n",
        "gb = cbc(learning_rate=0.01, loss_function='Logloss', n_estimators=1000, max_depth=4)\n",
        "gb.fit(train_large[train_large.columns.drop('y')], train_large.y, logging_level='Silent')\n",
        "print(sklearn.metrics.mean_squared_error(train_df.y, gb.predict(train_large[train_large.columns.drop('y')])))"
      ],
      "execution_count": 0,
      "outputs": [
        {
          "output_type": "stream",
          "text": [
            "0.3346368478377361\n"
          ],
          "name": "stdout"
        }
      ]
    },
    {
      "cell_type": "code",
      "metadata": {
        "id": "3j2IF5FHpU17",
        "colab_type": "code",
        "colab": {}
      },
      "source": [
        "# Predict the testing set\n",
        "test_large['predicted'] = gb.predict_proba(test_large)[:,1]\n",
        "test_large[['predicted']].to_csv('submission.csv')"
      ],
      "execution_count": 0,
      "outputs": []
    },
    {
      "cell_type": "code",
      "metadata": {
        "id": "d_N6vfJRF8Yl",
        "colab_type": "code",
        "outputId": "57357fb6-031c-4186-d488-01de35eff086",
        "colab": {
          "base_uri": "https://localhost:8080/",
          "height": 118
        }
      },
      "source": [
        "# Cross Validation\n",
        "best = [0, 0.1, 5, 15, 500]\n",
        "result = []\n",
        "errors = []\n",
        "for i in range(5): \n",
        "  print(i)\n",
        "  indices = np.arange(train_large.index.size)\n",
        "  fin_indices = indices + np.repeat(i, len(indices))\n",
        "  if indices[len(indices) - 1] >= train_large.index.size:\n",
        "    indices[len(indices) - 1] = i\n",
        "  train = train_large.iloc[np.mod(fin_indices, 5)!=0]\n",
        "  val = train_large.iloc[np.mod(fin_indices, 5) == 0]\n",
        "  # Train using gradient boosting with the best parameters\n",
        "  gb = cbc(learning_rate=best[1], loss_function='Logloss', l2_leaf_reg=best[2],\n",
        "           max_depth=best[3], n_estimators=best[4])\n",
        "  gb.fit(train[train.columns.drop('y')], train.y, logging_level='Silent', \n",
        "         eval_set=(val[val.columns.drop('y')], val.y), use_best_model=True)\n",
        "  result.append(gb.predict_proba(test_large[test_large.columns.drop('predicted')])[:,1])\n",
        "  errors.append(sklearn.metrics.mean_squared_error(train.y, gb.predict(train[train.columns.drop('y')])))\n",
        "error = np.mean(np.array(errors))\n",
        "print(error)"
      ],
      "execution_count": 0,
      "outputs": [
        {
          "output_type": "stream",
          "text": [
            "0\n",
            "1\n",
            "2\n",
            "3\n",
            "4\n",
            "0.14100013778165715\n"
          ],
          "name": "stdout"
        }
      ]
    },
    {
      "cell_type": "code",
      "metadata": {
        "id": "VuL_Yq1MG3Wh",
        "colab_type": "code",
        "outputId": "a258c39e-f6b3-4286-c0c1-2c7506391902",
        "colab": {
          "base_uri": "https://localhost:8080/",
          "height": 269
        }
      },
      "source": [
        "# Average the predictions of the testing set\n",
        "test_large['predicted'] = np.mean(np.array(result), axis=0)\n",
        "test_large[['predicted']].to_csv('submission.csv')\n",
        "\n",
        "# Get feature importance\n",
        "print(train_large.columns)\n",
        "print(gb.get_feature_importance())"
      ],
      "execution_count": 0,
      "outputs": [
        {
          "output_type": "stream",
          "text": [
            "Index(['last_price', 'mid', 'opened_position_qty ', 'closed_position_qty',\n",
            "       'transacted_qty', 'd_open_interest', 'bid1', 'bid2', 'bid3', 'bid4',\n",
            "       'bid5', 'ask1', 'ask2', 'ask3', 'ask4', 'ask5', 'bid1vol', 'bid2vol',\n",
            "       'bid3vol', 'bid4vol', 'bid5vol', 'ask1vol', 'ask2vol', 'ask3vol',\n",
            "       'ask4vol', 'ask5vol', 'y', 'baspread1', 'baspread2', 'baspread3',\n",
            "       'baspread4', 'baspread5', 'askdiff', 'biddiff', 'askmean', 'bidmean',\n",
            "       'askvolmean', 'bidvolmean', 'priceaccum', 'volaccum'],\n",
            "      dtype='object')\n",
            "[0.76604062 0.87577365 2.88977667 2.88736754 3.80667876 1.51040396\n",
            " 0.42986539 0.24264999 0.38949198 0.52736725 0.5905904  0.66837702\n",
            " 0.41011935 0.49748543 0.36032129 0.66346993 6.72303871 5.50385126\n",
            " 5.00557291 5.12840713 5.53016826 8.13687959 6.07767599 5.04725648\n",
            " 4.7753556  5.16138372 3.80094835 1.93278907 0.83680063 1.2546283\n",
            " 1.14494291 3.44118018 3.08584646 0.62994029 0.51053629 2.74715015\n",
            " 2.42332803 1.6602758  1.92626467]\n"
          ],
          "name": "stdout"
        }
      ]
    },
    {
      "cell_type": "markdown",
      "metadata": {
        "id": "oHVuh-dL9Rvk",
        "colab_type": "text"
      },
      "source": [
        "We thus find that using gradient boosting classifier works the best."
      ]
    }
  ]
}